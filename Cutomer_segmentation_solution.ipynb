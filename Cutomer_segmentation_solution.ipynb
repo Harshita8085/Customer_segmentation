{
 "cells": [
  {
   "cell_type": "code",
   "execution_count": 1,
   "id": "98c180e1",
   "metadata": {},
   "outputs": [],
   "source": [
    "import pandas as pd\n",
    "import numpy as np\n",
    "import matplotlib.pyplot as plt\n",
    "import seaborn as sns \n",
    "import warnings\n",
    "warnings.filterwarnings('ignore')"
   ]
  },
  {
   "cell_type": "code",
   "execution_count": 2,
   "id": "dae30dc7",
   "metadata": {},
   "outputs": [],
   "source": [
    "df=pd.read_csv(r'C:\\Users\\ASUS\\Desktop\\PythonProjects\\8_important_projects\\Customer_segmentation\\Dataset\\OnlineRetail.csv',encoding='unicode_escape')"
   ]
  },
  {
   "cell_type": "code",
   "execution_count": 3,
   "id": "72b2a0c8",
   "metadata": {},
   "outputs": [
    {
     "data": {
      "text/html": [
       "<div>\n",
       "<style scoped>\n",
       "    .dataframe tbody tr th:only-of-type {\n",
       "        vertical-align: middle;\n",
       "    }\n",
       "\n",
       "    .dataframe tbody tr th {\n",
       "        vertical-align: top;\n",
       "    }\n",
       "\n",
       "    .dataframe thead th {\n",
       "        text-align: right;\n",
       "    }\n",
       "</style>\n",
       "<table border=\"1\" class=\"dataframe\">\n",
       "  <thead>\n",
       "    <tr style=\"text-align: right;\">\n",
       "      <th></th>\n",
       "      <th>InvoiceNo</th>\n",
       "      <th>StockCode</th>\n",
       "      <th>Description</th>\n",
       "      <th>Quantity</th>\n",
       "      <th>InvoiceDate</th>\n",
       "      <th>UnitPrice</th>\n",
       "      <th>CustomerID</th>\n",
       "      <th>Country</th>\n",
       "    </tr>\n",
       "  </thead>\n",
       "  <tbody>\n",
       "    <tr>\n",
       "      <th>0</th>\n",
       "      <td>536365</td>\n",
       "      <td>85123A</td>\n",
       "      <td>WHITE HANGING HEART T-LIGHT HOLDER</td>\n",
       "      <td>6</td>\n",
       "      <td>12/1/2010 8:26</td>\n",
       "      <td>2.55</td>\n",
       "      <td>17850.0</td>\n",
       "      <td>United Kingdom</td>\n",
       "    </tr>\n",
       "    <tr>\n",
       "      <th>1</th>\n",
       "      <td>536365</td>\n",
       "      <td>71053</td>\n",
       "      <td>WHITE METAL LANTERN</td>\n",
       "      <td>6</td>\n",
       "      <td>12/1/2010 8:26</td>\n",
       "      <td>3.39</td>\n",
       "      <td>17850.0</td>\n",
       "      <td>United Kingdom</td>\n",
       "    </tr>\n",
       "    <tr>\n",
       "      <th>2</th>\n",
       "      <td>536365</td>\n",
       "      <td>84406B</td>\n",
       "      <td>CREAM CUPID HEARTS COAT HANGER</td>\n",
       "      <td>8</td>\n",
       "      <td>12/1/2010 8:26</td>\n",
       "      <td>2.75</td>\n",
       "      <td>17850.0</td>\n",
       "      <td>United Kingdom</td>\n",
       "    </tr>\n",
       "    <tr>\n",
       "      <th>3</th>\n",
       "      <td>536365</td>\n",
       "      <td>84029G</td>\n",
       "      <td>KNITTED UNION FLAG HOT WATER BOTTLE</td>\n",
       "      <td>6</td>\n",
       "      <td>12/1/2010 8:26</td>\n",
       "      <td>3.39</td>\n",
       "      <td>17850.0</td>\n",
       "      <td>United Kingdom</td>\n",
       "    </tr>\n",
       "    <tr>\n",
       "      <th>4</th>\n",
       "      <td>536365</td>\n",
       "      <td>84029E</td>\n",
       "      <td>RED WOOLLY HOTTIE WHITE HEART.</td>\n",
       "      <td>6</td>\n",
       "      <td>12/1/2010 8:26</td>\n",
       "      <td>3.39</td>\n",
       "      <td>17850.0</td>\n",
       "      <td>United Kingdom</td>\n",
       "    </tr>\n",
       "  </tbody>\n",
       "</table>\n",
       "</div>"
      ],
      "text/plain": [
       "  InvoiceNo StockCode                          Description  Quantity  \\\n",
       "0    536365    85123A   WHITE HANGING HEART T-LIGHT HOLDER         6   \n",
       "1    536365     71053                  WHITE METAL LANTERN         6   \n",
       "2    536365    84406B       CREAM CUPID HEARTS COAT HANGER         8   \n",
       "3    536365    84029G  KNITTED UNION FLAG HOT WATER BOTTLE         6   \n",
       "4    536365    84029E       RED WOOLLY HOTTIE WHITE HEART.         6   \n",
       "\n",
       "      InvoiceDate  UnitPrice  CustomerID         Country  \n",
       "0  12/1/2010 8:26       2.55     17850.0  United Kingdom  \n",
       "1  12/1/2010 8:26       3.39     17850.0  United Kingdom  \n",
       "2  12/1/2010 8:26       2.75     17850.0  United Kingdom  \n",
       "3  12/1/2010 8:26       3.39     17850.0  United Kingdom  \n",
       "4  12/1/2010 8:26       3.39     17850.0  United Kingdom  "
      ]
     },
     "execution_count": 3,
     "metadata": {},
     "output_type": "execute_result"
    }
   ],
   "source": [
    "df.head()"
   ]
  },
  {
   "cell_type": "code",
   "execution_count": 4,
   "id": "caeebce8",
   "metadata": {},
   "outputs": [
    {
     "data": {
      "text/html": [
       "<div>\n",
       "<style scoped>\n",
       "    .dataframe tbody tr th:only-of-type {\n",
       "        vertical-align: middle;\n",
       "    }\n",
       "\n",
       "    .dataframe tbody tr th {\n",
       "        vertical-align: top;\n",
       "    }\n",
       "\n",
       "    .dataframe thead th {\n",
       "        text-align: right;\n",
       "    }\n",
       "</style>\n",
       "<table border=\"1\" class=\"dataframe\">\n",
       "  <thead>\n",
       "    <tr style=\"text-align: right;\">\n",
       "      <th></th>\n",
       "      <th>InvoiceNo</th>\n",
       "      <th>StockCode</th>\n",
       "      <th>Description</th>\n",
       "      <th>Quantity</th>\n",
       "      <th>InvoiceDate</th>\n",
       "      <th>UnitPrice</th>\n",
       "      <th>CustomerID</th>\n",
       "      <th>Country</th>\n",
       "    </tr>\n",
       "  </thead>\n",
       "  <tbody>\n",
       "    <tr>\n",
       "      <th>541904</th>\n",
       "      <td>581587</td>\n",
       "      <td>22613</td>\n",
       "      <td>PACK OF 20 SPACEBOY NAPKINS</td>\n",
       "      <td>12</td>\n",
       "      <td>12/9/2011 12:50</td>\n",
       "      <td>0.85</td>\n",
       "      <td>12680.0</td>\n",
       "      <td>France</td>\n",
       "    </tr>\n",
       "    <tr>\n",
       "      <th>541905</th>\n",
       "      <td>581587</td>\n",
       "      <td>22899</td>\n",
       "      <td>CHILDREN'S APRON DOLLY GIRL</td>\n",
       "      <td>6</td>\n",
       "      <td>12/9/2011 12:50</td>\n",
       "      <td>2.10</td>\n",
       "      <td>12680.0</td>\n",
       "      <td>France</td>\n",
       "    </tr>\n",
       "    <tr>\n",
       "      <th>541906</th>\n",
       "      <td>581587</td>\n",
       "      <td>23254</td>\n",
       "      <td>CHILDRENS CUTLERY DOLLY GIRL</td>\n",
       "      <td>4</td>\n",
       "      <td>12/9/2011 12:50</td>\n",
       "      <td>4.15</td>\n",
       "      <td>12680.0</td>\n",
       "      <td>France</td>\n",
       "    </tr>\n",
       "    <tr>\n",
       "      <th>541907</th>\n",
       "      <td>581587</td>\n",
       "      <td>23255</td>\n",
       "      <td>CHILDRENS CUTLERY CIRCUS PARADE</td>\n",
       "      <td>4</td>\n",
       "      <td>12/9/2011 12:50</td>\n",
       "      <td>4.15</td>\n",
       "      <td>12680.0</td>\n",
       "      <td>France</td>\n",
       "    </tr>\n",
       "    <tr>\n",
       "      <th>541908</th>\n",
       "      <td>581587</td>\n",
       "      <td>22138</td>\n",
       "      <td>BAKING SET 9 PIECE RETROSPOT</td>\n",
       "      <td>3</td>\n",
       "      <td>12/9/2011 12:50</td>\n",
       "      <td>4.95</td>\n",
       "      <td>12680.0</td>\n",
       "      <td>France</td>\n",
       "    </tr>\n",
       "  </tbody>\n",
       "</table>\n",
       "</div>"
      ],
      "text/plain": [
       "       InvoiceNo StockCode                      Description  Quantity  \\\n",
       "541904    581587     22613      PACK OF 20 SPACEBOY NAPKINS        12   \n",
       "541905    581587     22899     CHILDREN'S APRON DOLLY GIRL          6   \n",
       "541906    581587     23254    CHILDRENS CUTLERY DOLLY GIRL          4   \n",
       "541907    581587     23255  CHILDRENS CUTLERY CIRCUS PARADE         4   \n",
       "541908    581587     22138    BAKING SET 9 PIECE RETROSPOT          3   \n",
       "\n",
       "            InvoiceDate  UnitPrice  CustomerID Country  \n",
       "541904  12/9/2011 12:50       0.85     12680.0  France  \n",
       "541905  12/9/2011 12:50       2.10     12680.0  France  \n",
       "541906  12/9/2011 12:50       4.15     12680.0  France  \n",
       "541907  12/9/2011 12:50       4.15     12680.0  France  \n",
       "541908  12/9/2011 12:50       4.95     12680.0  France  "
      ]
     },
     "execution_count": 4,
     "metadata": {},
     "output_type": "execute_result"
    }
   ],
   "source": [
    "df.tail()"
   ]
  },
  {
   "cell_type": "code",
   "execution_count": 5,
   "id": "061d89b5",
   "metadata": {},
   "outputs": [
    {
     "data": {
      "text/plain": [
       "(541909, 8)"
      ]
     },
     "execution_count": 5,
     "metadata": {},
     "output_type": "execute_result"
    }
   ],
   "source": [
    "df.shape"
   ]
  },
  {
   "cell_type": "code",
   "execution_count": 6,
   "id": "c12da8a0",
   "metadata": {},
   "outputs": [
    {
     "name": "stdout",
     "output_type": "stream",
     "text": [
      "<class 'pandas.core.frame.DataFrame'>\n",
      "RangeIndex: 541909 entries, 0 to 541908\n",
      "Data columns (total 8 columns):\n",
      " #   Column       Non-Null Count   Dtype  \n",
      "---  ------       --------------   -----  \n",
      " 0   InvoiceNo    541909 non-null  object \n",
      " 1   StockCode    541909 non-null  object \n",
      " 2   Description  540455 non-null  object \n",
      " 3   Quantity     541909 non-null  int64  \n",
      " 4   InvoiceDate  541909 non-null  object \n",
      " 5   UnitPrice    541909 non-null  float64\n",
      " 6   CustomerID   406829 non-null  float64\n",
      " 7   Country      541909 non-null  object \n",
      "dtypes: float64(2), int64(1), object(5)\n",
      "memory usage: 33.1+ MB\n"
     ]
    }
   ],
   "source": [
    "df.info()"
   ]
  },
  {
   "cell_type": "code",
   "execution_count": 7,
   "id": "43f75700",
   "metadata": {},
   "outputs": [
    {
     "data": {
      "text/html": [
       "<div>\n",
       "<style scoped>\n",
       "    .dataframe tbody tr th:only-of-type {\n",
       "        vertical-align: middle;\n",
       "    }\n",
       "\n",
       "    .dataframe tbody tr th {\n",
       "        vertical-align: top;\n",
       "    }\n",
       "\n",
       "    .dataframe thead th {\n",
       "        text-align: right;\n",
       "    }\n",
       "</style>\n",
       "<table border=\"1\" class=\"dataframe\">\n",
       "  <thead>\n",
       "    <tr style=\"text-align: right;\">\n",
       "      <th></th>\n",
       "      <th>Quantity</th>\n",
       "      <th>UnitPrice</th>\n",
       "      <th>CustomerID</th>\n",
       "    </tr>\n",
       "  </thead>\n",
       "  <tbody>\n",
       "    <tr>\n",
       "      <th>count</th>\n",
       "      <td>541909.000000</td>\n",
       "      <td>541909.000000</td>\n",
       "      <td>406829.000000</td>\n",
       "    </tr>\n",
       "    <tr>\n",
       "      <th>mean</th>\n",
       "      <td>9.552250</td>\n",
       "      <td>4.611114</td>\n",
       "      <td>15287.690570</td>\n",
       "    </tr>\n",
       "    <tr>\n",
       "      <th>std</th>\n",
       "      <td>218.081158</td>\n",
       "      <td>96.759853</td>\n",
       "      <td>1713.600303</td>\n",
       "    </tr>\n",
       "    <tr>\n",
       "      <th>min</th>\n",
       "      <td>-80995.000000</td>\n",
       "      <td>-11062.060000</td>\n",
       "      <td>12346.000000</td>\n",
       "    </tr>\n",
       "    <tr>\n",
       "      <th>25%</th>\n",
       "      <td>1.000000</td>\n",
       "      <td>1.250000</td>\n",
       "      <td>13953.000000</td>\n",
       "    </tr>\n",
       "    <tr>\n",
       "      <th>50%</th>\n",
       "      <td>3.000000</td>\n",
       "      <td>2.080000</td>\n",
       "      <td>15152.000000</td>\n",
       "    </tr>\n",
       "    <tr>\n",
       "      <th>75%</th>\n",
       "      <td>10.000000</td>\n",
       "      <td>4.130000</td>\n",
       "      <td>16791.000000</td>\n",
       "    </tr>\n",
       "    <tr>\n",
       "      <th>max</th>\n",
       "      <td>80995.000000</td>\n",
       "      <td>38970.000000</td>\n",
       "      <td>18287.000000</td>\n",
       "    </tr>\n",
       "  </tbody>\n",
       "</table>\n",
       "</div>"
      ],
      "text/plain": [
       "            Quantity      UnitPrice     CustomerID\n",
       "count  541909.000000  541909.000000  406829.000000\n",
       "mean        9.552250       4.611114   15287.690570\n",
       "std       218.081158      96.759853    1713.600303\n",
       "min    -80995.000000  -11062.060000   12346.000000\n",
       "25%         1.000000       1.250000   13953.000000\n",
       "50%         3.000000       2.080000   15152.000000\n",
       "75%        10.000000       4.130000   16791.000000\n",
       "max     80995.000000   38970.000000   18287.000000"
      ]
     },
     "execution_count": 7,
     "metadata": {},
     "output_type": "execute_result"
    }
   ],
   "source": [
    "df.describe()"
   ]
  },
  {
   "cell_type": "code",
   "execution_count": 8,
   "id": "7cba1551",
   "metadata": {},
   "outputs": [
    {
     "data": {
      "text/plain": [
       "InvoiceNo           0\n",
       "StockCode           0\n",
       "Description      1454\n",
       "Quantity            0\n",
       "InvoiceDate         0\n",
       "UnitPrice           0\n",
       "CustomerID     135080\n",
       "Country             0\n",
       "dtype: int64"
      ]
     },
     "execution_count": 8,
     "metadata": {},
     "output_type": "execute_result"
    }
   ],
   "source": [
    "df.isnull().sum()"
   ]
  },
  {
   "cell_type": "code",
   "execution_count": 9,
   "id": "30487fb7",
   "metadata": {},
   "outputs": [
    {
     "data": {
      "text/plain": [
       "InvoiceNo       0.000000\n",
       "StockCode       0.000000\n",
       "Description     0.268311\n",
       "Quantity        0.000000\n",
       "InvoiceDate     0.000000\n",
       "UnitPrice       0.000000\n",
       "CustomerID     24.926694\n",
       "Country         0.000000\n",
       "dtype: float64"
      ]
     },
     "execution_count": 9,
     "metadata": {},
     "output_type": "execute_result"
    }
   ],
   "source": [
    "(df.isnull().sum()/df.shape[0])*100"
   ]
  },
  {
   "cell_type": "code",
   "execution_count": 10,
   "id": "c4fdc27e",
   "metadata": {},
   "outputs": [
    {
     "data": {
      "text/plain": [
       "136534"
      ]
     },
     "execution_count": 10,
     "metadata": {},
     "output_type": "execute_result"
    }
   ],
   "source": [
    "df.isnull().sum().sum()"
   ]
  },
  {
   "cell_type": "code",
   "execution_count": 11,
   "id": "78441ace",
   "metadata": {},
   "outputs": [
    {
     "data": {
      "text/plain": [
       "201.5600405234089"
      ]
     },
     "execution_count": 11,
     "metadata": {},
     "output_type": "execute_result"
    }
   ],
   "source": [
    "(df.isnull().sum().sum()/df.shape[0]*df.shape[1])*100"
   ]
  },
  {
   "cell_type": "code",
   "execution_count": 12,
   "id": "4241ff7d",
   "metadata": {},
   "outputs": [
    {
     "data": {
      "text/plain": [
       "5268"
      ]
     },
     "execution_count": 12,
     "metadata": {},
     "output_type": "execute_result"
    }
   ],
   "source": [
    "df.duplicated().sum()"
   ]
  },
  {
   "cell_type": "code",
   "execution_count": 13,
   "id": "ab157d51",
   "metadata": {},
   "outputs": [],
   "source": [
    "df.drop_duplicates(keep='first',inplace=True)"
   ]
  },
  {
   "cell_type": "code",
   "execution_count": 14,
   "id": "365fe641",
   "metadata": {},
   "outputs": [
    {
     "data": {
      "text/plain": [
       "0"
      ]
     },
     "execution_count": 14,
     "metadata": {},
     "output_type": "execute_result"
    }
   ],
   "source": [
    "df.duplicated().sum()"
   ]
  },
  {
   "cell_type": "code",
   "execution_count": 15,
   "id": "aa728103",
   "metadata": {},
   "outputs": [],
   "source": [
    "df.dropna(inplace=True)"
   ]
  },
  {
   "cell_type": "code",
   "execution_count": 16,
   "id": "08c2a2d2",
   "metadata": {},
   "outputs": [
    {
     "data": {
      "text/plain": [
       "(401604, 8)"
      ]
     },
     "execution_count": 16,
     "metadata": {},
     "output_type": "execute_result"
    }
   ],
   "source": [
    "df.shape"
   ]
  },
  {
   "cell_type": "code",
   "execution_count": 17,
   "id": "bcba5755",
   "metadata": {},
   "outputs": [
    {
     "data": {
      "text/plain": [
       "dtype('O')"
      ]
     },
     "execution_count": 17,
     "metadata": {},
     "output_type": "execute_result"
    }
   ],
   "source": [
    "df[\"InvoiceNo\"].dtype"
   ]
  },
  {
   "cell_type": "code",
   "execution_count": 18,
   "id": "b4622c42",
   "metadata": {},
   "outputs": [
    {
     "data": {
      "text/plain": [
       "InvoiceNo\n",
       "576339     542\n",
       "579196     533\n",
       "580727     529\n",
       "578270     442\n",
       "573576     435\n",
       "          ... \n",
       "C560912      1\n",
       "560913       1\n",
       "560917       1\n",
       "572879       1\n",
       "553049       1\n",
       "Name: count, Length: 22190, dtype: int64"
      ]
     },
     "execution_count": 18,
     "metadata": {},
     "output_type": "execute_result"
    }
   ],
   "source": [
    "# for i in df.select_dtypes(include=\"object\").columns:\n",
    "#     print(df[i].value_counts())\n",
    "#     print(\"***\"*10)\n",
    "df[\"InvoiceNo\"].value_counts()"
   ]
  },
  {
   "cell_type": "code",
   "execution_count": 19,
   "id": "261d32e9",
   "metadata": {},
   "outputs": [
    {
     "name": "stdout",
     "output_type": "stream",
     "text": [
      "        InvoiceNo StockCode                          Description  Quantity  \\\n",
      "0          536365    85123A   WHITE HANGING HEART T-LIGHT HOLDER         6   \n",
      "1          536365     71053                  WHITE METAL LANTERN         6   \n",
      "2          536365    84406B       CREAM CUPID HEARTS COAT HANGER         8   \n",
      "3          536365    84029G  KNITTED UNION FLAG HOT WATER BOTTLE         6   \n",
      "4          536365    84029E       RED WOOLLY HOTTIE WHITE HEART.         6   \n",
      "...           ...       ...                                  ...       ...   \n",
      "541904     581587     22613          PACK OF 20 SPACEBOY NAPKINS        12   \n",
      "541905     581587     22899         CHILDREN'S APRON DOLLY GIRL          6   \n",
      "541906     581587     23254        CHILDRENS CUTLERY DOLLY GIRL          4   \n",
      "541907     581587     23255      CHILDRENS CUTLERY CIRCUS PARADE         4   \n",
      "541908     581587     22138        BAKING SET 9 PIECE RETROSPOT          3   \n",
      "\n",
      "            InvoiceDate  UnitPrice  CustomerID         Country  \n",
      "0        12/1/2010 8:26       2.55     17850.0  United Kingdom  \n",
      "1        12/1/2010 8:26       3.39     17850.0  United Kingdom  \n",
      "2        12/1/2010 8:26       2.75     17850.0  United Kingdom  \n",
      "3        12/1/2010 8:26       3.39     17850.0  United Kingdom  \n",
      "4        12/1/2010 8:26       3.39     17850.0  United Kingdom  \n",
      "...                 ...        ...         ...             ...  \n",
      "541904  12/9/2011 12:50       0.85     12680.0          France  \n",
      "541905  12/9/2011 12:50       2.10     12680.0          France  \n",
      "541906  12/9/2011 12:50       4.15     12680.0          France  \n",
      "541907  12/9/2011 12:50       4.15     12680.0          France  \n",
      "541908  12/9/2011 12:50       4.95     12680.0          France  \n",
      "\n",
      "[392732 rows x 8 columns]\n"
     ]
    }
   ],
   "source": [
    "# Step 1: Convert to numeric, replacing garbage with NaN\n",
    "df['InvoiceNo'] = pd.to_numeric(df['InvoiceNo'], errors='coerce')\n",
    "\n",
    "# Step 2: Drop rows with NaN values\n",
    "df = df.dropna(subset=['InvoiceNo'])\n",
    "\n",
    "# Step 3: Convert the column to integers\n",
    "df['InvoiceNo'] = df['InvoiceNo'].astype(int)\n",
    "\n",
    "print(df)"
   ]
  },
  {
   "cell_type": "code",
   "execution_count": 20,
   "id": "6afe1ee6",
   "metadata": {},
   "outputs": [
    {
     "data": {
      "text/plain": [
       "(392732, 8)"
      ]
     },
     "execution_count": 20,
     "metadata": {},
     "output_type": "execute_result"
    }
   ],
   "source": [
    "df.shape"
   ]
  },
  {
   "cell_type": "code",
   "execution_count": 21,
   "id": "8527506d",
   "metadata": {},
   "outputs": [],
   "source": [
    "# # box plot\n",
    "# for i in df.select_dtypes(include=\"number\").columns:\n",
    "#     sns.boxplot(data=df,x=i)\n",
    "#     plt.show()\n"
   ]
  },
  {
   "cell_type": "code",
   "execution_count": 22,
   "id": "6e22e875",
   "metadata": {},
   "outputs": [],
   "source": [
    "# def Min_max(col):\n",
    "#     q1,q3 = np.percentile(col, [25,75])\n",
    "#     iqr = q3 - q1\n",
    "#     min_range = q1 - (1.5 * iqr)\n",
    "#     max_range = q3 + (1.5 * iqr)\n",
    "#     return min_range,max_range"
   ]
  },
  {
   "cell_type": "code",
   "execution_count": 23,
   "id": "440053bb",
   "metadata": {},
   "outputs": [
    {
     "name": "stdout",
     "output_type": "stream",
     "text": [
      "<class 'pandas.core.frame.DataFrame'>\n",
      "Index: 392732 entries, 0 to 541908\n",
      "Data columns (total 8 columns):\n",
      " #   Column       Non-Null Count   Dtype  \n",
      "---  ------       --------------   -----  \n",
      " 0   InvoiceNo    392732 non-null  int32  \n",
      " 1   StockCode    392732 non-null  object \n",
      " 2   Description  392732 non-null  object \n",
      " 3   Quantity     392732 non-null  int64  \n",
      " 4   InvoiceDate  392732 non-null  object \n",
      " 5   UnitPrice    392732 non-null  float64\n",
      " 6   CustomerID   392732 non-null  float64\n",
      " 7   Country      392732 non-null  object \n",
      "dtypes: float64(2), int32(1), int64(1), object(4)\n",
      "memory usage: 25.5+ MB\n"
     ]
    }
   ],
   "source": [
    "df.info()"
   ]
  },
  {
   "cell_type": "code",
   "execution_count": 24,
   "id": "1046a54d",
   "metadata": {},
   "outputs": [],
   "source": [
    "# for i in ['InvoiceNo','Quantity','UnitPrice', 'CustomerID']:\n",
    "#     min_range,max_range = Min_max(df[i])\n",
    "#     df[i] = np.where(df[i] < min_range, min_range, df[i])\n",
    "#     df[i] = np.where(df[i] > max_range, max_range, df[i])"
   ]
  },
  {
   "cell_type": "code",
   "execution_count": 25,
   "id": "90341060",
   "metadata": {},
   "outputs": [],
   "source": [
    "# for i in ['InvoiceNo','Quantity','UnitPrice', 'CustomerID']:\n",
    "#     sns.boxplot(data=df,x=i)\n",
    "#     plt.show()"
   ]
  },
  {
   "cell_type": "code",
   "execution_count": 26,
   "id": "d74ae5df",
   "metadata": {},
   "outputs": [
    {
     "data": {
      "text/plain": [
       "(392732, 8)"
      ]
     },
     "execution_count": 26,
     "metadata": {},
     "output_type": "execute_result"
    }
   ],
   "source": [
    "df.shape"
   ]
  },
  {
   "cell_type": "code",
   "execution_count": 27,
   "id": "94ac4987",
   "metadata": {},
   "outputs": [
    {
     "data": {
      "text/plain": [
       "InvoiceNo      0\n",
       "StockCode      0\n",
       "Description    0\n",
       "Quantity       0\n",
       "InvoiceDate    0\n",
       "UnitPrice      0\n",
       "CustomerID     0\n",
       "Country        0\n",
       "dtype: int64"
      ]
     },
     "execution_count": 27,
     "metadata": {},
     "output_type": "execute_result"
    }
   ],
   "source": [
    "df.isnull().sum()"
   ]
  },
  {
   "cell_type": "code",
   "execution_count": 28,
   "id": "9ee7353e",
   "metadata": {},
   "outputs": [
    {
     "data": {
      "text/html": [
       "<div>\n",
       "<style scoped>\n",
       "    .dataframe tbody tr th:only-of-type {\n",
       "        vertical-align: middle;\n",
       "    }\n",
       "\n",
       "    .dataframe tbody tr th {\n",
       "        vertical-align: top;\n",
       "    }\n",
       "\n",
       "    .dataframe thead th {\n",
       "        text-align: right;\n",
       "    }\n",
       "</style>\n",
       "<table border=\"1\" class=\"dataframe\">\n",
       "  <thead>\n",
       "    <tr style=\"text-align: right;\">\n",
       "      <th></th>\n",
       "      <th>InvoiceNo</th>\n",
       "      <th>StockCode</th>\n",
       "      <th>Description</th>\n",
       "      <th>Quantity</th>\n",
       "      <th>InvoiceDate</th>\n",
       "      <th>UnitPrice</th>\n",
       "      <th>CustomerID</th>\n",
       "      <th>Country</th>\n",
       "    </tr>\n",
       "  </thead>\n",
       "  <tbody>\n",
       "    <tr>\n",
       "      <th>0</th>\n",
       "      <td>536365</td>\n",
       "      <td>85123A</td>\n",
       "      <td>WHITE HANGING HEART T-LIGHT HOLDER</td>\n",
       "      <td>6</td>\n",
       "      <td>12/1/2010 8:26</td>\n",
       "      <td>2.55</td>\n",
       "      <td>17850.0</td>\n",
       "      <td>United Kingdom</td>\n",
       "    </tr>\n",
       "    <tr>\n",
       "      <th>1</th>\n",
       "      <td>536365</td>\n",
       "      <td>71053</td>\n",
       "      <td>WHITE METAL LANTERN</td>\n",
       "      <td>6</td>\n",
       "      <td>12/1/2010 8:26</td>\n",
       "      <td>3.39</td>\n",
       "      <td>17850.0</td>\n",
       "      <td>United Kingdom</td>\n",
       "    </tr>\n",
       "    <tr>\n",
       "      <th>2</th>\n",
       "      <td>536365</td>\n",
       "      <td>84406B</td>\n",
       "      <td>CREAM CUPID HEARTS COAT HANGER</td>\n",
       "      <td>8</td>\n",
       "      <td>12/1/2010 8:26</td>\n",
       "      <td>2.75</td>\n",
       "      <td>17850.0</td>\n",
       "      <td>United Kingdom</td>\n",
       "    </tr>\n",
       "    <tr>\n",
       "      <th>3</th>\n",
       "      <td>536365</td>\n",
       "      <td>84029G</td>\n",
       "      <td>KNITTED UNION FLAG HOT WATER BOTTLE</td>\n",
       "      <td>6</td>\n",
       "      <td>12/1/2010 8:26</td>\n",
       "      <td>3.39</td>\n",
       "      <td>17850.0</td>\n",
       "      <td>United Kingdom</td>\n",
       "    </tr>\n",
       "    <tr>\n",
       "      <th>4</th>\n",
       "      <td>536365</td>\n",
       "      <td>84029E</td>\n",
       "      <td>RED WOOLLY HOTTIE WHITE HEART.</td>\n",
       "      <td>6</td>\n",
       "      <td>12/1/2010 8:26</td>\n",
       "      <td>3.39</td>\n",
       "      <td>17850.0</td>\n",
       "      <td>United Kingdom</td>\n",
       "    </tr>\n",
       "  </tbody>\n",
       "</table>\n",
       "</div>"
      ],
      "text/plain": [
       "   InvoiceNo StockCode                          Description  Quantity  \\\n",
       "0     536365    85123A   WHITE HANGING HEART T-LIGHT HOLDER         6   \n",
       "1     536365     71053                  WHITE METAL LANTERN         6   \n",
       "2     536365    84406B       CREAM CUPID HEARTS COAT HANGER         8   \n",
       "3     536365    84029G  KNITTED UNION FLAG HOT WATER BOTTLE         6   \n",
       "4     536365    84029E       RED WOOLLY HOTTIE WHITE HEART.         6   \n",
       "\n",
       "      InvoiceDate  UnitPrice  CustomerID         Country  \n",
       "0  12/1/2010 8:26       2.55     17850.0  United Kingdom  \n",
       "1  12/1/2010 8:26       3.39     17850.0  United Kingdom  \n",
       "2  12/1/2010 8:26       2.75     17850.0  United Kingdom  \n",
       "3  12/1/2010 8:26       3.39     17850.0  United Kingdom  \n",
       "4  12/1/2010 8:26       3.39     17850.0  United Kingdom  "
      ]
     },
     "execution_count": 28,
     "metadata": {},
     "output_type": "execute_result"
    }
   ],
   "source": [
    "df.head()"
   ]
  },
  {
   "cell_type": "markdown",
   "id": "b012d981",
   "metadata": {},
   "source": [
    " ## What is RFM?\n",
    "R (Recency): Number of days since last purchase\n",
    "F (Frequency): Number of tracsactions\n",
    "M (Monetary): Total amount of transactions (revenue contributed)"
   ]
  },
  {
   "cell_type": "code",
   "execution_count": 29,
   "id": "0dbf2dfc",
   "metadata": {},
   "outputs": [
    {
     "name": "stdout",
     "output_type": "stream",
     "text": [
      "<class 'pandas.core.frame.DataFrame'>\n",
      "Index: 392732 entries, 0 to 541908\n",
      "Data columns (total 8 columns):\n",
      " #   Column       Non-Null Count   Dtype  \n",
      "---  ------       --------------   -----  \n",
      " 0   InvoiceNo    392732 non-null  int32  \n",
      " 1   StockCode    392732 non-null  object \n",
      " 2   Description  392732 non-null  object \n",
      " 3   Quantity     392732 non-null  int64  \n",
      " 4   InvoiceDate  392732 non-null  object \n",
      " 5   UnitPrice    392732 non-null  float64\n",
      " 6   CustomerID   392732 non-null  float64\n",
      " 7   Country      392732 non-null  object \n",
      "dtypes: float64(2), int32(1), int64(1), object(4)\n",
      "memory usage: 25.5+ MB\n"
     ]
    }
   ],
   "source": [
    "df.info()"
   ]
  },
  {
   "cell_type": "markdown",
   "id": "9a38997b",
   "metadata": {},
   "source": [
    "# Finding Monetary"
   ]
  },
  {
   "cell_type": "code",
   "execution_count": 30,
   "id": "2453462d",
   "metadata": {},
   "outputs": [],
   "source": [
    "df['CustomerID']=df['CustomerID'].astype(str)"
   ]
  },
  {
   "cell_type": "code",
   "execution_count": 31,
   "id": "d1067d64",
   "metadata": {},
   "outputs": [],
   "source": [
    "df['Amount']=df['Quantity']*df['UnitPrice']"
   ]
  },
  {
   "cell_type": "code",
   "execution_count": 32,
   "id": "0151e72c",
   "metadata": {},
   "outputs": [],
   "source": [
    "rfm_m=df.groupby('CustomerID')['Amount'].sum()"
   ]
  },
  {
   "cell_type": "code",
   "execution_count": 33,
   "id": "32d1b772",
   "metadata": {},
   "outputs": [
    {
     "data": {
      "text/plain": [
       "CustomerID\n",
       "12346.0    77183.60\n",
       "12347.0     4310.00\n",
       "12348.0     1797.24\n",
       "12349.0     1757.55\n",
       "12350.0      334.40\n",
       "             ...   \n",
       "18280.0      180.60\n",
       "18281.0       80.82\n",
       "18282.0      178.05\n",
       "18283.0     2045.53\n",
       "18287.0     1837.28\n",
       "Name: Amount, Length: 4339, dtype: float64"
      ]
     },
     "execution_count": 33,
     "metadata": {},
     "output_type": "execute_result"
    }
   ],
   "source": [
    "rfm_m"
   ]
  },
  {
   "cell_type": "code",
   "execution_count": 34,
   "id": "ec6de57a",
   "metadata": {},
   "outputs": [
    {
     "data": {
      "text/html": [
       "<div>\n",
       "<style scoped>\n",
       "    .dataframe tbody tr th:only-of-type {\n",
       "        vertical-align: middle;\n",
       "    }\n",
       "\n",
       "    .dataframe tbody tr th {\n",
       "        vertical-align: top;\n",
       "    }\n",
       "\n",
       "    .dataframe thead th {\n",
       "        text-align: right;\n",
       "    }\n",
       "</style>\n",
       "<table border=\"1\" class=\"dataframe\">\n",
       "  <thead>\n",
       "    <tr style=\"text-align: right;\">\n",
       "      <th></th>\n",
       "      <th>CustomerID</th>\n",
       "      <th>Amount</th>\n",
       "    </tr>\n",
       "  </thead>\n",
       "  <tbody>\n",
       "    <tr>\n",
       "      <th>0</th>\n",
       "      <td>12346.0</td>\n",
       "      <td>77183.60</td>\n",
       "    </tr>\n",
       "    <tr>\n",
       "      <th>1</th>\n",
       "      <td>12347.0</td>\n",
       "      <td>4310.00</td>\n",
       "    </tr>\n",
       "    <tr>\n",
       "      <th>2</th>\n",
       "      <td>12348.0</td>\n",
       "      <td>1797.24</td>\n",
       "    </tr>\n",
       "    <tr>\n",
       "      <th>3</th>\n",
       "      <td>12349.0</td>\n",
       "      <td>1757.55</td>\n",
       "    </tr>\n",
       "    <tr>\n",
       "      <th>4</th>\n",
       "      <td>12350.0</td>\n",
       "      <td>334.40</td>\n",
       "    </tr>\n",
       "    <tr>\n",
       "      <th>...</th>\n",
       "      <td>...</td>\n",
       "      <td>...</td>\n",
       "    </tr>\n",
       "    <tr>\n",
       "      <th>4334</th>\n",
       "      <td>18280.0</td>\n",
       "      <td>180.60</td>\n",
       "    </tr>\n",
       "    <tr>\n",
       "      <th>4335</th>\n",
       "      <td>18281.0</td>\n",
       "      <td>80.82</td>\n",
       "    </tr>\n",
       "    <tr>\n",
       "      <th>4336</th>\n",
       "      <td>18282.0</td>\n",
       "      <td>178.05</td>\n",
       "    </tr>\n",
       "    <tr>\n",
       "      <th>4337</th>\n",
       "      <td>18283.0</td>\n",
       "      <td>2045.53</td>\n",
       "    </tr>\n",
       "    <tr>\n",
       "      <th>4338</th>\n",
       "      <td>18287.0</td>\n",
       "      <td>1837.28</td>\n",
       "    </tr>\n",
       "  </tbody>\n",
       "</table>\n",
       "<p>4339 rows × 2 columns</p>\n",
       "</div>"
      ],
      "text/plain": [
       "     CustomerID    Amount\n",
       "0       12346.0  77183.60\n",
       "1       12347.0   4310.00\n",
       "2       12348.0   1797.24\n",
       "3       12349.0   1757.55\n",
       "4       12350.0    334.40\n",
       "...         ...       ...\n",
       "4334    18280.0    180.60\n",
       "4335    18281.0     80.82\n",
       "4336    18282.0    178.05\n",
       "4337    18283.0   2045.53\n",
       "4338    18287.0   1837.28\n",
       "\n",
       "[4339 rows x 2 columns]"
      ]
     },
     "execution_count": 34,
     "metadata": {},
     "output_type": "execute_result"
    }
   ],
   "source": [
    "rfm_m.reset_index()"
   ]
  },
  {
   "cell_type": "code",
   "execution_count": 35,
   "id": "5fe857c1",
   "metadata": {},
   "outputs": [
    {
     "name": "stdout",
     "output_type": "stream",
     "text": [
      "CustomerID\n",
      "12346.0    77183.60\n",
      "12347.0     4310.00\n",
      "12348.0     1797.24\n",
      "12349.0     1757.55\n",
      "12350.0      334.40\n",
      "             ...   \n",
      "18280.0      180.60\n",
      "18281.0       80.82\n",
      "18282.0      178.05\n",
      "18283.0     2045.53\n",
      "18287.0     1837.28\n",
      "Name: Amount, Length: 4339, dtype: float64\n"
     ]
    }
   ],
   "source": [
    "print(rfm_m)\n"
   ]
  },
  {
   "cell_type": "markdown",
   "id": "919bf3eb",
   "metadata": {},
   "source": [
    "# Finding Frequency"
   ]
  },
  {
   "cell_type": "code",
   "execution_count": 36,
   "id": "9fea70cd",
   "metadata": {},
   "outputs": [
    {
     "name": "stdout",
     "output_type": "stream",
     "text": [
      "CustomerID\n",
      "12346.0      1\n",
      "12347.0    182\n",
      "12348.0     31\n",
      "12349.0     73\n",
      "12350.0     17\n",
      "          ... \n",
      "18280.0     10\n",
      "18281.0      7\n",
      "18282.0     12\n",
      "18283.0    721\n",
      "18287.0     70\n",
      "Name: InvoiceNo, Length: 4339, dtype: int64\n"
     ]
    }
   ],
   "source": [
    "rfm_f=df.groupby('CustomerID')['InvoiceNo'].count()\n",
    "rfm_f.reset_index()\n",
    "print(rfm_f)"
   ]
  },
  {
   "cell_type": "code",
   "execution_count": 37,
   "id": "266163bf",
   "metadata": {},
   "outputs": [
    {
     "data": {
      "text/plain": [
       "CustomerID\n",
       "12346.0      1\n",
       "12347.0    182\n",
       "12348.0     31\n",
       "12349.0     73\n",
       "12350.0     17\n",
       "          ... \n",
       "18280.0     10\n",
       "18281.0      7\n",
       "18282.0     12\n",
       "18283.0    721\n",
       "18287.0     70\n",
       "Name: InvoiceNo, Length: 4339, dtype: int64"
      ]
     },
     "execution_count": 37,
     "metadata": {},
     "output_type": "execute_result"
    }
   ],
   "source": [
    "rfm_f"
   ]
  },
  {
   "cell_type": "markdown",
   "id": "1a1c1f93",
   "metadata": {},
   "source": [
    "# Finding Recency"
   ]
  },
  {
   "cell_type": "code",
   "execution_count": 38,
   "id": "f2757ca2",
   "metadata": {},
   "outputs": [],
   "source": [
    "df['InvoiceDate']=pd.to_datetime(df['InvoiceDate'],format='%m/%d/%Y %H:%M')"
   ]
  },
  {
   "cell_type": "code",
   "execution_count": 39,
   "id": "043e7d83",
   "metadata": {},
   "outputs": [
    {
     "data": {
      "text/plain": [
       "0        2010-12-01 08:26:00\n",
       "1        2010-12-01 08:26:00\n",
       "2        2010-12-01 08:26:00\n",
       "3        2010-12-01 08:26:00\n",
       "4        2010-12-01 08:26:00\n",
       "                 ...        \n",
       "541904   2011-12-09 12:50:00\n",
       "541905   2011-12-09 12:50:00\n",
       "541906   2011-12-09 12:50:00\n",
       "541907   2011-12-09 12:50:00\n",
       "541908   2011-12-09 12:50:00\n",
       "Name: InvoiceDate, Length: 392732, dtype: datetime64[ns]"
      ]
     },
     "execution_count": 39,
     "metadata": {},
     "output_type": "execute_result"
    }
   ],
   "source": [
    "df['InvoiceDate']"
   ]
  },
  {
   "cell_type": "code",
   "execution_count": 40,
   "id": "ddfb1e36",
   "metadata": {},
   "outputs": [],
   "source": [
    "max_date=max(df['InvoiceDate'])"
   ]
  },
  {
   "cell_type": "code",
   "execution_count": 41,
   "id": "014efcc8",
   "metadata": {},
   "outputs": [
    {
     "data": {
      "text/plain": [
       "Timestamp('2011-12-09 12:50:00')"
      ]
     },
     "execution_count": 41,
     "metadata": {},
     "output_type": "execute_result"
    }
   ],
   "source": [
    "max_date"
   ]
  },
  {
   "cell_type": "code",
   "execution_count": 42,
   "id": "62f1938f",
   "metadata": {},
   "outputs": [],
   "source": [
    "df['Diffrence']=max_date-df['InvoiceDate']"
   ]
  },
  {
   "cell_type": "code",
   "execution_count": 43,
   "id": "361ec07e",
   "metadata": {},
   "outputs": [
    {
     "data": {
      "text/plain": [
       "0        373 days 04:24:00\n",
       "1        373 days 04:24:00\n",
       "2        373 days 04:24:00\n",
       "3        373 days 04:24:00\n",
       "4        373 days 04:24:00\n",
       "                ...       \n",
       "541904     0 days 00:00:00\n",
       "541905     0 days 00:00:00\n",
       "541906     0 days 00:00:00\n",
       "541907     0 days 00:00:00\n",
       "541908     0 days 00:00:00\n",
       "Name: Diffrence, Length: 392732, dtype: timedelta64[ns]"
      ]
     },
     "execution_count": 43,
     "metadata": {},
     "output_type": "execute_result"
    }
   ],
   "source": [
    "df['Diffrence']"
   ]
  },
  {
   "cell_type": "code",
   "execution_count": 44,
   "id": "a6458fb0",
   "metadata": {},
   "outputs": [],
   "source": [
    "rfm_r=df.groupby('CustomerID')['Diffrence'].min()"
   ]
  },
  {
   "cell_type": "code",
   "execution_count": 45,
   "id": "697fb672",
   "metadata": {},
   "outputs": [
    {
     "data": {
      "text/plain": [
       "CustomerID\n",
       "12346.0   325 days 02:49:00\n",
       "12347.0     1 days 20:58:00\n",
       "12348.0    74 days 23:37:00\n",
       "12349.0    18 days 02:59:00\n",
       "12350.0   309 days 20:49:00\n",
       "                 ...       \n",
       "18280.0   277 days 02:58:00\n",
       "18281.0   180 days 01:57:00\n",
       "18282.0     7 days 01:07:00\n",
       "18283.0     3 days 00:48:00\n",
       "18287.0    42 days 03:21:00\n",
       "Name: Diffrence, Length: 4339, dtype: timedelta64[ns]"
      ]
     },
     "execution_count": 45,
     "metadata": {},
     "output_type": "execute_result"
    }
   ],
   "source": [
    "rfm_r"
   ]
  },
  {
   "cell_type": "code",
   "execution_count": 46,
   "id": "54a54e21",
   "metadata": {},
   "outputs": [],
   "source": [
    "rfm_r=rfm_r.reset_index()"
   ]
  },
  {
   "cell_type": "code",
   "execution_count": 47,
   "id": "c14751e3",
   "metadata": {},
   "outputs": [
    {
     "name": "stdout",
     "output_type": "stream",
     "text": [
      "     CustomerID         Diffrence\n",
      "0       12346.0 325 days 02:49:00\n",
      "1       12347.0   1 days 20:58:00\n",
      "2       12348.0  74 days 23:37:00\n",
      "3       12349.0  18 days 02:59:00\n",
      "4       12350.0 309 days 20:49:00\n",
      "...         ...               ...\n",
      "4334    18280.0 277 days 02:58:00\n",
      "4335    18281.0 180 days 01:57:00\n",
      "4336    18282.0   7 days 01:07:00\n",
      "4337    18283.0   3 days 00:48:00\n",
      "4338    18287.0  42 days 03:21:00\n",
      "\n",
      "[4339 rows x 2 columns]\n"
     ]
    }
   ],
   "source": [
    "rfm_r.columns=['CustomerID','Diffrence']\n",
    "print(rfm_r)"
   ]
  },
  {
   "cell_type": "code",
   "execution_count": 48,
   "id": "660cbe8e",
   "metadata": {},
   "outputs": [],
   "source": [
    "rfm_r['Diffrence']=rfm_r['Diffrence'].dt.days"
   ]
  },
  {
   "cell_type": "code",
   "execution_count": 49,
   "id": "91ac3798",
   "metadata": {},
   "outputs": [
    {
     "name": "stdout",
     "output_type": "stream",
     "text": [
      "     CustomerID  Diffrence\n",
      "0       12346.0        325\n",
      "1       12347.0          1\n",
      "2       12348.0         74\n",
      "3       12349.0         18\n",
      "4       12350.0        309\n",
      "...         ...        ...\n",
      "4334    18280.0        277\n",
      "4335    18281.0        180\n",
      "4336    18282.0          7\n",
      "4337    18283.0          3\n",
      "4338    18287.0         42\n",
      "\n",
      "[4339 rows x 2 columns]\n"
     ]
    }
   ],
   "source": [
    "print(rfm_r)"
   ]
  },
  {
   "cell_type": "code",
   "execution_count": 50,
   "id": "dbd23773",
   "metadata": {},
   "outputs": [],
   "source": [
    "rfm_final=pd.merge(rfm_m,rfm_f,on='CustomerID',how='inner')"
   ]
  },
  {
   "cell_type": "code",
   "execution_count": 51,
   "id": "3b1a3adc",
   "metadata": {},
   "outputs": [],
   "source": [
    "rfm_final=pd.merge(rfm_final,rfm_r,on='CustomerID',how='inner')"
   ]
  },
  {
   "cell_type": "code",
   "execution_count": 52,
   "id": "668e16ff",
   "metadata": {},
   "outputs": [],
   "source": [
    "rfm_final.columns = ['CustomerID', 'Amount', 'Frequency', 'Recency']\n"
   ]
  },
  {
   "cell_type": "code",
   "execution_count": 53,
   "id": "0d9e0234",
   "metadata": {},
   "outputs": [
    {
     "data": {
      "text/html": [
       "<div>\n",
       "<style scoped>\n",
       "    .dataframe tbody tr th:only-of-type {\n",
       "        vertical-align: middle;\n",
       "    }\n",
       "\n",
       "    .dataframe tbody tr th {\n",
       "        vertical-align: top;\n",
       "    }\n",
       "\n",
       "    .dataframe thead th {\n",
       "        text-align: right;\n",
       "    }\n",
       "</style>\n",
       "<table border=\"1\" class=\"dataframe\">\n",
       "  <thead>\n",
       "    <tr style=\"text-align: right;\">\n",
       "      <th></th>\n",
       "      <th>CustomerID</th>\n",
       "      <th>Amount</th>\n",
       "      <th>Frequency</th>\n",
       "      <th>Recency</th>\n",
       "    </tr>\n",
       "  </thead>\n",
       "  <tbody>\n",
       "    <tr>\n",
       "      <th>0</th>\n",
       "      <td>12346.0</td>\n",
       "      <td>77183.60</td>\n",
       "      <td>1</td>\n",
       "      <td>325</td>\n",
       "    </tr>\n",
       "    <tr>\n",
       "      <th>1</th>\n",
       "      <td>12347.0</td>\n",
       "      <td>4310.00</td>\n",
       "      <td>182</td>\n",
       "      <td>1</td>\n",
       "    </tr>\n",
       "    <tr>\n",
       "      <th>2</th>\n",
       "      <td>12348.0</td>\n",
       "      <td>1797.24</td>\n",
       "      <td>31</td>\n",
       "      <td>74</td>\n",
       "    </tr>\n",
       "    <tr>\n",
       "      <th>3</th>\n",
       "      <td>12349.0</td>\n",
       "      <td>1757.55</td>\n",
       "      <td>73</td>\n",
       "      <td>18</td>\n",
       "    </tr>\n",
       "    <tr>\n",
       "      <th>4</th>\n",
       "      <td>12350.0</td>\n",
       "      <td>334.40</td>\n",
       "      <td>17</td>\n",
       "      <td>309</td>\n",
       "    </tr>\n",
       "  </tbody>\n",
       "</table>\n",
       "</div>"
      ],
      "text/plain": [
       "  CustomerID    Amount  Frequency  Recency\n",
       "0    12346.0  77183.60          1      325\n",
       "1    12347.0   4310.00        182        1\n",
       "2    12348.0   1797.24         31       74\n",
       "3    12349.0   1757.55         73       18\n",
       "4    12350.0    334.40         17      309"
      ]
     },
     "execution_count": 53,
     "metadata": {},
     "output_type": "execute_result"
    }
   ],
   "source": [
    "rfm_final.head()"
   ]
  },
  {
   "cell_type": "code",
   "execution_count": 54,
   "id": "83c6087f",
   "metadata": {},
   "outputs": [
    {
     "data": {
      "text/plain": [
       "CustomerID    0\n",
       "Amount        0\n",
       "Frequency     0\n",
       "Recency       0\n",
       "dtype: int64"
      ]
     },
     "execution_count": 54,
     "metadata": {},
     "output_type": "execute_result"
    }
   ],
   "source": [
    "rfm_final.isnull().sum()"
   ]
  },
  {
   "cell_type": "code",
   "execution_count": 55,
   "id": "f18e56ca",
   "metadata": {},
   "outputs": [
    {
     "data": {
      "text/plain": [
       "(4339, 4)"
      ]
     },
     "execution_count": 55,
     "metadata": {},
     "output_type": "execute_result"
    }
   ],
   "source": [
    "rfm_final.shape"
   ]
  },
  {
   "cell_type": "markdown",
   "id": "0f9c5000",
   "metadata": {},
   "source": [
    "# Finding Outlier"
   ]
  },
  {
   "cell_type": "code",
   "execution_count": 57,
   "id": "7a07baee",
   "metadata": {},
   "outputs": [
    {
     "data": {
      "image/png": "[encoded data removed]",
      "text/plain": [
       "<Figure size 640x480 with 1 Axes>"
      ]
     },
     "metadata": {},
     "output_type": "display_data"
    },
    {
     "data": {
      "image/png": "[encoded data removed]",
      "text/plain": [
       "<Figure size 640x480 with 1 Axes>"
      ]
     },
     "metadata": {},
     "output_type": "display_data"
    },
    {
     "data": {
      "image/png": "[encoded data removed]",
      "text/plain": [
       "<Figure size 640x480 with 1 Axes>"
      ]
     },
     "metadata": {},
     "output_type": "display_data"
    }
   ],
   "source": [
    "# box plot\n",
    "for i in rfm_final.select_dtypes(include=\"number\").columns:\n",
    "    sns.boxplot(data=rfm_final,x=i)\n",
    "    plt.show()\n"
   ]
  },
  {
   "cell_type": "markdown",
   "id": "c715662b",
   "metadata": {},
   "source": [
    "# Removing Outlier"
   ]
  },
  {
   "cell_type": "code",
   "execution_count": 58,
   "id": "c51a5e0a",
   "metadata": {},
   "outputs": [],
   "source": [
    "def Min_max(col):\n",
    "    q1,q3 = np.percentile(col, [25,75])\n",
    "    iqr = q3 - q1\n",
    "    min_range = q1 - (1.5 * iqr)\n",
    "    max_range = q3 + (1.5 * iqr)\n",
    "    return min_range,max_range"
   ]
  },
  {
   "cell_type": "code",
   "execution_count": 59,
   "id": "8eb0c740",
   "metadata": {},
   "outputs": [
    {
     "data": {
      "text/plain": [
       "Index(['CustomerID', 'Amount', 'Frequency', 'Recency'], dtype='object')"
      ]
     },
     "execution_count": 59,
     "metadata": {},
     "output_type": "execute_result"
    }
   ],
   "source": [
    "rfm_final.columns"
   ]
  },
  {
   "cell_type": "code",
   "execution_count": 62,
   "id": "82f5c0b3",
   "metadata": {},
   "outputs": [],
   "source": [
    "for i in ['Amount', 'Frequency', 'Recency']:\n",
    "    min_range,max_range = Min_max(rfm_final[i])\n",
    "    rfm_final[i] = np.where(rfm_final[i] < min_range, min_range, rfm_final[i])\n",
    "    rfm_final[i] = np.where(rfm_final[i] > max_range, max_range, rfm_final[i])"
   ]
  },
  {
   "cell_type": "code",
   "execution_count": 63,
   "id": "1d356355",
   "metadata": {},
   "outputs": [
    {
     "data": {
      "image/png": "[encoded data removed]",
      "text/plain": [
       "<Figure size 640x480 with 1 Axes>"
      ]
     },
     "metadata": {},
     "output_type": "display_data"
    },
    {
     "data": {
      "image/png": "[encoded data removed]",
      "text/plain": [
       "<Figure size 640x480 with 1 Axes>"
      ]
     },
     "metadata": {},
     "output_type": "display_data"
    },
    {
     "data": {
      "image/png": "[encoded data removed]",
      "text/plain": [
       "<Figure size 640x480 with 1 Axes>"
      ]
     },
     "metadata": {},
     "output_type": "display_data"
    }
   ],
   "source": [
    "for i in ['Amount', 'Frequency', 'Recency']:\n",
    "    sns.boxplot(data=rfm_final,x=i)\n",
    "    plt.show()\n"
   ]
  },
  {
   "cell_type": "code",
   "execution_count": 64,
   "id": "84c2694b",
   "metadata": {},
   "outputs": [
    {
     "data": {
      "text/plain": [
       "(4339, 4)"
      ]
     },
     "execution_count": 64,
     "metadata": {},
     "output_type": "execute_result"
    }
   ],
   "source": [
    "rfm_final.shape"
   ]
  },
  {
   "cell_type": "code",
   "execution_count": 65,
   "id": "cf338614",
   "metadata": {},
   "outputs": [
    {
     "data": {
      "text/html": [
       "<div>\n",
       "<style scoped>\n",
       "    .dataframe tbody tr th:only-of-type {\n",
       "        vertical-align: middle;\n",
       "    }\n",
       "\n",
       "    .dataframe tbody tr th {\n",
       "        vertical-align: top;\n",
       "    }\n",
       "\n",
       "    .dataframe thead th {\n",
       "        text-align: right;\n",
       "    }\n",
       "</style>\n",
       "<table border=\"1\" class=\"dataframe\">\n",
       "  <thead>\n",
       "    <tr style=\"text-align: right;\">\n",
       "      <th></th>\n",
       "      <th>CustomerID</th>\n",
       "      <th>Amount</th>\n",
       "      <th>Frequency</th>\n",
       "      <th>Recency</th>\n",
       "    </tr>\n",
       "  </thead>\n",
       "  <tbody>\n",
       "    <tr>\n",
       "      <th>0</th>\n",
       "      <td>12346.0</td>\n",
       "      <td>3691.105</td>\n",
       "      <td>1.0</td>\n",
       "      <td>325.0</td>\n",
       "    </tr>\n",
       "    <tr>\n",
       "      <th>1</th>\n",
       "      <td>12347.0</td>\n",
       "      <td>3691.105</td>\n",
       "      <td>182.0</td>\n",
       "      <td>1.0</td>\n",
       "    </tr>\n",
       "    <tr>\n",
       "      <th>2</th>\n",
       "      <td>12348.0</td>\n",
       "      <td>1797.240</td>\n",
       "      <td>31.0</td>\n",
       "      <td>74.0</td>\n",
       "    </tr>\n",
       "    <tr>\n",
       "      <th>3</th>\n",
       "      <td>12349.0</td>\n",
       "      <td>1757.550</td>\n",
       "      <td>73.0</td>\n",
       "      <td>18.0</td>\n",
       "    </tr>\n",
       "    <tr>\n",
       "      <th>4</th>\n",
       "      <td>12350.0</td>\n",
       "      <td>334.400</td>\n",
       "      <td>17.0</td>\n",
       "      <td>309.0</td>\n",
       "    </tr>\n",
       "  </tbody>\n",
       "</table>\n",
       "</div>"
      ],
      "text/plain": [
       "  CustomerID    Amount  Frequency  Recency\n",
       "0    12346.0  3691.105        1.0    325.0\n",
       "1    12347.0  3691.105      182.0      1.0\n",
       "2    12348.0  1797.240       31.0     74.0\n",
       "3    12349.0  1757.550       73.0     18.0\n",
       "4    12350.0   334.400       17.0    309.0"
      ]
     },
     "execution_count": 65,
     "metadata": {},
     "output_type": "execute_result"
    }
   ],
   "source": [
    "rfm_final.head()"
   ]
  },
  {
   "cell_type": "markdown",
   "id": "f82b4d31",
   "metadata": {},
   "source": [
    "# Importing important libraries"
   ]
  },
  {
   "cell_type": "code",
   "execution_count": 66,
   "id": "1590ca49",
   "metadata": {},
   "outputs": [],
   "source": [
    "from sklearn.preprocessing import MinMaxScaler"
   ]
  },
  {
   "cell_type": "code",
   "execution_count": 68,
   "id": "5e00cd7c",
   "metadata": {},
   "outputs": [],
   "source": [
    "X=rfm_final[['Amount', 'Frequency', 'Recency']]"
   ]
  },
  {
   "cell_type": "code",
   "execution_count": 69,
   "id": "325ca68d",
   "metadata": {},
   "outputs": [],
   "source": [
    "scaler=MinMaxScaler()"
   ]
  },
  {
   "cell_type": "code",
   "execution_count": 72,
   "id": "8b5e6626",
   "metadata": {},
   "outputs": [],
   "source": [
    "rfm_scaled=scaler.fit_transform(X)"
   ]
  },
  {
   "cell_type": "code",
   "execution_count": 73,
   "id": "a22ce030",
   "metadata": {},
   "outputs": [
    {
     "data": {
      "text/html": [
       "<div>\n",
       "<style scoped>\n",
       "    .dataframe tbody tr th:only-of-type {\n",
       "        vertical-align: middle;\n",
       "    }\n",
       "\n",
       "    .dataframe tbody tr th {\n",
       "        vertical-align: top;\n",
       "    }\n",
       "\n",
       "    .dataframe thead th {\n",
       "        text-align: right;\n",
       "    }\n",
       "</style>\n",
       "<table border=\"1\" class=\"dataframe\">\n",
       "  <thead>\n",
       "    <tr style=\"text-align: right;\">\n",
       "      <th></th>\n",
       "      <th>Amount</th>\n",
       "      <th>Frequency</th>\n",
       "      <th>Recency</th>\n",
       "    </tr>\n",
       "  </thead>\n",
       "  <tbody>\n",
       "    <tr>\n",
       "      <th>0</th>\n",
       "      <td>1.000000</td>\n",
       "      <td>0.000000</td>\n",
       "      <td>0.993884</td>\n",
       "    </tr>\n",
       "    <tr>\n",
       "      <th>1</th>\n",
       "      <td>1.000000</td>\n",
       "      <td>0.828375</td>\n",
       "      <td>0.003058</td>\n",
       "    </tr>\n",
       "    <tr>\n",
       "      <th>2</th>\n",
       "      <td>0.486911</td>\n",
       "      <td>0.137300</td>\n",
       "      <td>0.226300</td>\n",
       "    </tr>\n",
       "    <tr>\n",
       "      <th>3</th>\n",
       "      <td>0.476158</td>\n",
       "      <td>0.329519</td>\n",
       "      <td>0.055046</td>\n",
       "    </tr>\n",
       "    <tr>\n",
       "      <th>4</th>\n",
       "      <td>0.090596</td>\n",
       "      <td>0.073227</td>\n",
       "      <td>0.944954</td>\n",
       "    </tr>\n",
       "  </tbody>\n",
       "</table>\n",
       "</div>"
      ],
      "text/plain": [
       "     Amount  Frequency   Recency\n",
       "0  1.000000   0.000000  0.993884\n",
       "1  1.000000   0.828375  0.003058\n",
       "2  0.486911   0.137300  0.226300\n",
       "3  0.476158   0.329519  0.055046\n",
       "4  0.090596   0.073227  0.944954"
      ]
     },
     "execution_count": 73,
     "metadata": {},
     "output_type": "execute_result"
    }
   ],
   "source": [
    "rfm_scaled = pd.DataFrame(rfm_scaled)\n",
    "rfm_scaled.columns = ['Amount', 'Frequency', 'Recency']\n",
    "rfm_scaled.head()"
   ]
  }
 ],
 "metadata": {
  "kernelspec": {
   "display_name": "Python 3 (ipykernel)",
   "language": "python",
   "name": "python3"
  },
  "language_info": {
   "codemirror_mode": {
    "name": "ipython",
    "version": 3
   },
   "file_extension": ".py",
   "mimetype": "text/x-python",
   "name": "python",
   "nbconvert_exporter": "python",
   "pygments_lexer": "ipython3",
   "version": "3.11.5"
  }
 },
 "nbformat": 4,
 "nbformat_minor": 5
}
